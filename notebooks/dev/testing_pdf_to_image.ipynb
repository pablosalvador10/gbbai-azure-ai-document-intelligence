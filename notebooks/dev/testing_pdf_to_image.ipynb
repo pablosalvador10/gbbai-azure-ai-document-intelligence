{
 "cells": [
  {
   "cell_type": "code",
   "execution_count": 1,
   "metadata": {},
   "outputs": [
    {
     "name": "stdout",
     "output_type": "stream",
     "text": [
      "Directory changed to C:\\Users\\pablosal\\Desktop\\gbbai-azure-ai-document-intelligence\n"
     ]
    }
   ],
   "source": [
    "import os\n",
    "# Define the target directory\n",
    "target_directory = r\"C:\\Users\\pablosal\\Desktop\\gbbai-azure-ai-document-intelligence\"  # change your directory here\n",
    "\n",
    "# Check if the directory exists\n",
    "if os.path.exists(target_directory):\n",
    "    # Change the current working directory\n",
    "    os.chdir(target_directory)\n",
    "    print(f\"Directory changed to {os.getcwd()}\")\n",
    "else:\n",
    "    print(f\"Directory {target_directory} does not exist.\")"
   ]
  },
  {
   "cell_type": "code",
   "execution_count": 2,
   "metadata": {},
   "outputs": [
    {
     "name": "stderr",
     "output_type": "stream",
     "text": [
      "2024-01-04 14:40:02,758 - micro - MainProcess - INFO     PDFHelper initialized. (pdf_data_extractor.py:__init__:20)\n",
      "2024-01-04 14:40:02,762 - micro - MainProcess - INFO     Initialized AzureBlobManager with container ocrtest (blob_data_extractor.py:__init__:50)\n"
     ]
    }
   ],
   "source": [
    "from src.extractors.ocr_data_extractor import OCRHelper\n",
    "\n",
    "ocr_data_extractor_helper = OCRHelper(container_name=\"ocrtest\")"
   ]
  },
  {
   "cell_type": "code",
   "execution_count": 3,
   "metadata": {},
   "outputs": [
    {
     "name": "stderr",
     "output_type": "stream",
     "text": [
      "2024-01-04 14:40:05,100 - micro - MainProcess - INFO     Input path is a local file or directory: C:\\Users\\pablosal\\Desktop\\gbbai-azure-ai-document-intelligence\\notebooks\\dev\\instruction-manual-fisher-ewd-ews-ewt-valves-through-nps-12x8-en-124788.pdf (ocr_data_extractor.py:extract_images_from_pdf:50)\n",
      "2024-01-04 14:40:05,102 - micro - MainProcess - INFO     Opening file: C:\\Users\\pablosal\\Desktop\\gbbai-azure-ai-document-intelligence\\notebooks\\dev\\instruction-manual-fisher-ewd-ews-ewt-valves-through-nps-12x8-en-124788.pdf (ocr_data_extractor.py:_process_single_pdf:91)\n",
      "2024-01-04 14:40:05,107 - micro - MainProcess - INFO     Processing page 1 of C:\\Users\\pablosal\\Desktop\\gbbai-azure-ai-document-intelligence\\notebooks\\dev\\instruction-manual-fisher-ewd-ews-ewt-valves-through-nps-12x8-en-124788.pdf (ocr_data_extractor.py:_process_single_pdf:96)\n",
      "2024-01-04 14:40:05,205 - micro - MainProcess - INFO     Saved image: C:\\Users\\pablosal\\Desktop\\gbbai-azure-ai-document-intelligence\\notebooks\\dev\\images\\instruction-manual-fisher-ewd-ews-ewt-valves-through-nps-12x8-en-124788-page-1.png (ocr_data_extractor.py:_process_single_pdf:105)\n",
      "2024-01-04 14:40:05,207 - micro - MainProcess - INFO     Processing page 2 of C:\\Users\\pablosal\\Desktop\\gbbai-azure-ai-document-intelligence\\notebooks\\dev\\instruction-manual-fisher-ewd-ews-ewt-valves-through-nps-12x8-en-124788.pdf (ocr_data_extractor.py:_process_single_pdf:96)\n",
      "2024-01-04 14:40:05,284 - micro - MainProcess - INFO     Saved image: C:\\Users\\pablosal\\Desktop\\gbbai-azure-ai-document-intelligence\\notebooks\\dev\\images\\instruction-manual-fisher-ewd-ews-ewt-valves-through-nps-12x8-en-124788-page-2.png (ocr_data_extractor.py:_process_single_pdf:105)\n",
      "2024-01-04 14:40:05,286 - micro - MainProcess - INFO     Processing page 3 of C:\\Users\\pablosal\\Desktop\\gbbai-azure-ai-document-intelligence\\notebooks\\dev\\instruction-manual-fisher-ewd-ews-ewt-valves-through-nps-12x8-en-124788.pdf (ocr_data_extractor.py:_process_single_pdf:96)\n",
      "2024-01-04 14:40:05,396 - micro - MainProcess - INFO     Saved image: C:\\Users\\pablosal\\Desktop\\gbbai-azure-ai-document-intelligence\\notebooks\\dev\\images\\instruction-manual-fisher-ewd-ews-ewt-valves-through-nps-12x8-en-124788-page-3.png (ocr_data_extractor.py:_process_single_pdf:105)\n",
      "2024-01-04 14:40:05,398 - micro - MainProcess - INFO     Processing page 4 of C:\\Users\\pablosal\\Desktop\\gbbai-azure-ai-document-intelligence\\notebooks\\dev\\instruction-manual-fisher-ewd-ews-ewt-valves-through-nps-12x8-en-124788.pdf (ocr_data_extractor.py:_process_single_pdf:96)\n",
      "2024-01-04 14:40:05,472 - micro - MainProcess - INFO     Saved image: C:\\Users\\pablosal\\Desktop\\gbbai-azure-ai-document-intelligence\\notebooks\\dev\\images\\instruction-manual-fisher-ewd-ews-ewt-valves-through-nps-12x8-en-124788-page-4.png (ocr_data_extractor.py:_process_single_pdf:105)\n",
      "2024-01-04 14:40:05,472 - micro - MainProcess - INFO     Processing page 5 of C:\\Users\\pablosal\\Desktop\\gbbai-azure-ai-document-intelligence\\notebooks\\dev\\instruction-manual-fisher-ewd-ews-ewt-valves-through-nps-12x8-en-124788.pdf (ocr_data_extractor.py:_process_single_pdf:96)\n",
      "2024-01-04 14:40:05,547 - micro - MainProcess - INFO     Saved image: C:\\Users\\pablosal\\Desktop\\gbbai-azure-ai-document-intelligence\\notebooks\\dev\\images\\instruction-manual-fisher-ewd-ews-ewt-valves-through-nps-12x8-en-124788-page-5.png (ocr_data_extractor.py:_process_single_pdf:105)\n",
      "2024-01-04 14:40:05,549 - micro - MainProcess - INFO     Processing page 6 of C:\\Users\\pablosal\\Desktop\\gbbai-azure-ai-document-intelligence\\notebooks\\dev\\instruction-manual-fisher-ewd-ews-ewt-valves-through-nps-12x8-en-124788.pdf (ocr_data_extractor.py:_process_single_pdf:96)\n",
      "2024-01-04 14:40:05,627 - micro - MainProcess - INFO     Saved image: C:\\Users\\pablosal\\Desktop\\gbbai-azure-ai-document-intelligence\\notebooks\\dev\\images\\instruction-manual-fisher-ewd-ews-ewt-valves-through-nps-12x8-en-124788-page-6.png (ocr_data_extractor.py:_process_single_pdf:105)\n",
      "2024-01-04 14:40:05,628 - micro - MainProcess - INFO     Processing page 7 of C:\\Users\\pablosal\\Desktop\\gbbai-azure-ai-document-intelligence\\notebooks\\dev\\instruction-manual-fisher-ewd-ews-ewt-valves-through-nps-12x8-en-124788.pdf (ocr_data_extractor.py:_process_single_pdf:96)\n",
      "2024-01-04 14:40:05,705 - micro - MainProcess - INFO     Saved image: C:\\Users\\pablosal\\Desktop\\gbbai-azure-ai-document-intelligence\\notebooks\\dev\\images\\instruction-manual-fisher-ewd-ews-ewt-valves-through-nps-12x8-en-124788-page-7.png (ocr_data_extractor.py:_process_single_pdf:105)\n",
      "2024-01-04 14:40:05,706 - micro - MainProcess - INFO     Processing page 8 of C:\\Users\\pablosal\\Desktop\\gbbai-azure-ai-document-intelligence\\notebooks\\dev\\instruction-manual-fisher-ewd-ews-ewt-valves-through-nps-12x8-en-124788.pdf (ocr_data_extractor.py:_process_single_pdf:96)\n",
      "2024-01-04 14:40:05,793 - micro - MainProcess - INFO     Saved image: C:\\Users\\pablosal\\Desktop\\gbbai-azure-ai-document-intelligence\\notebooks\\dev\\images\\instruction-manual-fisher-ewd-ews-ewt-valves-through-nps-12x8-en-124788-page-8.png (ocr_data_extractor.py:_process_single_pdf:105)\n",
      "2024-01-04 14:40:05,794 - micro - MainProcess - INFO     Processing page 9 of C:\\Users\\pablosal\\Desktop\\gbbai-azure-ai-document-intelligence\\notebooks\\dev\\instruction-manual-fisher-ewd-ews-ewt-valves-through-nps-12x8-en-124788.pdf (ocr_data_extractor.py:_process_single_pdf:96)\n",
      "2024-01-04 14:40:05,956 - micro - MainProcess - INFO     Saved image: C:\\Users\\pablosal\\Desktop\\gbbai-azure-ai-document-intelligence\\notebooks\\dev\\images\\instruction-manual-fisher-ewd-ews-ewt-valves-through-nps-12x8-en-124788-page-9.png (ocr_data_extractor.py:_process_single_pdf:105)\n",
      "2024-01-04 14:40:05,958 - micro - MainProcess - INFO     Processing page 10 of C:\\Users\\pablosal\\Desktop\\gbbai-azure-ai-document-intelligence\\notebooks\\dev\\instruction-manual-fisher-ewd-ews-ewt-valves-through-nps-12x8-en-124788.pdf (ocr_data_extractor.py:_process_single_pdf:96)\n",
      "2024-01-04 14:40:06,032 - micro - MainProcess - INFO     Saved image: C:\\Users\\pablosal\\Desktop\\gbbai-azure-ai-document-intelligence\\notebooks\\dev\\images\\instruction-manual-fisher-ewd-ews-ewt-valves-through-nps-12x8-en-124788-page-10.png (ocr_data_extractor.py:_process_single_pdf:105)\n",
      "2024-01-04 14:40:06,035 - micro - MainProcess - INFO     Processing page 11 of C:\\Users\\pablosal\\Desktop\\gbbai-azure-ai-document-intelligence\\notebooks\\dev\\instruction-manual-fisher-ewd-ews-ewt-valves-through-nps-12x8-en-124788.pdf (ocr_data_extractor.py:_process_single_pdf:96)\n",
      "2024-01-04 14:40:06,103 - micro - MainProcess - INFO     Saved image: C:\\Users\\pablosal\\Desktop\\gbbai-azure-ai-document-intelligence\\notebooks\\dev\\images\\instruction-manual-fisher-ewd-ews-ewt-valves-through-nps-12x8-en-124788-page-11.png (ocr_data_extractor.py:_process_single_pdf:105)\n",
      "2024-01-04 14:40:06,103 - micro - MainProcess - INFO     Processing page 12 of C:\\Users\\pablosal\\Desktop\\gbbai-azure-ai-document-intelligence\\notebooks\\dev\\instruction-manual-fisher-ewd-ews-ewt-valves-through-nps-12x8-en-124788.pdf (ocr_data_extractor.py:_process_single_pdf:96)\n",
      "2024-01-04 14:40:06,186 - micro - MainProcess - INFO     Saved image: C:\\Users\\pablosal\\Desktop\\gbbai-azure-ai-document-intelligence\\notebooks\\dev\\images\\instruction-manual-fisher-ewd-ews-ewt-valves-through-nps-12x8-en-124788-page-12.png (ocr_data_extractor.py:_process_single_pdf:105)\n",
      "2024-01-04 14:40:06,186 - micro - MainProcess - INFO     Processing page 13 of C:\\Users\\pablosal\\Desktop\\gbbai-azure-ai-document-intelligence\\notebooks\\dev\\instruction-manual-fisher-ewd-ews-ewt-valves-through-nps-12x8-en-124788.pdf (ocr_data_extractor.py:_process_single_pdf:96)\n",
      "2024-01-04 14:40:06,286 - micro - MainProcess - INFO     Saved image: C:\\Users\\pablosal\\Desktop\\gbbai-azure-ai-document-intelligence\\notebooks\\dev\\images\\instruction-manual-fisher-ewd-ews-ewt-valves-through-nps-12x8-en-124788-page-13.png (ocr_data_extractor.py:_process_single_pdf:105)\n",
      "2024-01-04 14:40:06,289 - micro - MainProcess - INFO     Processing page 14 of C:\\Users\\pablosal\\Desktop\\gbbai-azure-ai-document-intelligence\\notebooks\\dev\\instruction-manual-fisher-ewd-ews-ewt-valves-through-nps-12x8-en-124788.pdf (ocr_data_extractor.py:_process_single_pdf:96)\n",
      "2024-01-04 14:40:06,367 - micro - MainProcess - INFO     Saved image: C:\\Users\\pablosal\\Desktop\\gbbai-azure-ai-document-intelligence\\notebooks\\dev\\images\\instruction-manual-fisher-ewd-ews-ewt-valves-through-nps-12x8-en-124788-page-14.png (ocr_data_extractor.py:_process_single_pdf:105)\n",
      "2024-01-04 14:40:06,367 - micro - MainProcess - INFO     Processing page 15 of C:\\Users\\pablosal\\Desktop\\gbbai-azure-ai-document-intelligence\\notebooks\\dev\\instruction-manual-fisher-ewd-ews-ewt-valves-through-nps-12x8-en-124788.pdf (ocr_data_extractor.py:_process_single_pdf:96)\n",
      "2024-01-04 14:40:06,456 - micro - MainProcess - INFO     Saved image: C:\\Users\\pablosal\\Desktop\\gbbai-azure-ai-document-intelligence\\notebooks\\dev\\images\\instruction-manual-fisher-ewd-ews-ewt-valves-through-nps-12x8-en-124788-page-15.png (ocr_data_extractor.py:_process_single_pdf:105)\n",
      "2024-01-04 14:40:06,456 - micro - MainProcess - INFO     Processing page 16 of C:\\Users\\pablosal\\Desktop\\gbbai-azure-ai-document-intelligence\\notebooks\\dev\\instruction-manual-fisher-ewd-ews-ewt-valves-through-nps-12x8-en-124788.pdf (ocr_data_extractor.py:_process_single_pdf:96)\n",
      "2024-01-04 14:40:06,533 - micro - MainProcess - INFO     Saved image: C:\\Users\\pablosal\\Desktop\\gbbai-azure-ai-document-intelligence\\notebooks\\dev\\images\\instruction-manual-fisher-ewd-ews-ewt-valves-through-nps-12x8-en-124788-page-16.png (ocr_data_extractor.py:_process_single_pdf:105)\n",
      "2024-01-04 14:40:06,533 - micro - MainProcess - INFO     Processing page 17 of C:\\Users\\pablosal\\Desktop\\gbbai-azure-ai-document-intelligence\\notebooks\\dev\\instruction-manual-fisher-ewd-ews-ewt-valves-through-nps-12x8-en-124788.pdf (ocr_data_extractor.py:_process_single_pdf:96)\n",
      "2024-01-04 14:40:06,617 - micro - MainProcess - INFO     Saved image: C:\\Users\\pablosal\\Desktop\\gbbai-azure-ai-document-intelligence\\notebooks\\dev\\images\\instruction-manual-fisher-ewd-ews-ewt-valves-through-nps-12x8-en-124788-page-17.png (ocr_data_extractor.py:_process_single_pdf:105)\n",
      "2024-01-04 14:40:06,617 - micro - MainProcess - INFO     Processing page 18 of C:\\Users\\pablosal\\Desktop\\gbbai-azure-ai-document-intelligence\\notebooks\\dev\\instruction-manual-fisher-ewd-ews-ewt-valves-through-nps-12x8-en-124788.pdf (ocr_data_extractor.py:_process_single_pdf:96)\n",
      "2024-01-04 14:40:06,703 - micro - MainProcess - INFO     Saved image: C:\\Users\\pablosal\\Desktop\\gbbai-azure-ai-document-intelligence\\notebooks\\dev\\images\\instruction-manual-fisher-ewd-ews-ewt-valves-through-nps-12x8-en-124788-page-18.png (ocr_data_extractor.py:_process_single_pdf:105)\n",
      "2024-01-04 14:40:06,703 - micro - MainProcess - INFO     Processing page 19 of C:\\Users\\pablosal\\Desktop\\gbbai-azure-ai-document-intelligence\\notebooks\\dev\\instruction-manual-fisher-ewd-ews-ewt-valves-through-nps-12x8-en-124788.pdf (ocr_data_extractor.py:_process_single_pdf:96)\n",
      "2024-01-04 14:40:06,787 - micro - MainProcess - INFO     Saved image: C:\\Users\\pablosal\\Desktop\\gbbai-azure-ai-document-intelligence\\notebooks\\dev\\images\\instruction-manual-fisher-ewd-ews-ewt-valves-through-nps-12x8-en-124788-page-19.png (ocr_data_extractor.py:_process_single_pdf:105)\n",
      "2024-01-04 14:40:06,787 - micro - MainProcess - INFO     Processing page 20 of C:\\Users\\pablosal\\Desktop\\gbbai-azure-ai-document-intelligence\\notebooks\\dev\\instruction-manual-fisher-ewd-ews-ewt-valves-through-nps-12x8-en-124788.pdf (ocr_data_extractor.py:_process_single_pdf:96)\n",
      "2024-01-04 14:40:06,854 - micro - MainProcess - INFO     Saved image: C:\\Users\\pablosal\\Desktop\\gbbai-azure-ai-document-intelligence\\notebooks\\dev\\images\\instruction-manual-fisher-ewd-ews-ewt-valves-through-nps-12x8-en-124788-page-20.png (ocr_data_extractor.py:_process_single_pdf:105)\n",
      "2024-01-04 14:40:06,854 - micro - MainProcess - INFO     Processing page 21 of C:\\Users\\pablosal\\Desktop\\gbbai-azure-ai-document-intelligence\\notebooks\\dev\\instruction-manual-fisher-ewd-ews-ewt-valves-through-nps-12x8-en-124788.pdf (ocr_data_extractor.py:_process_single_pdf:96)\n",
      "2024-01-04 14:40:06,953 - micro - MainProcess - INFO     Saved image: C:\\Users\\pablosal\\Desktop\\gbbai-azure-ai-document-intelligence\\notebooks\\dev\\images\\instruction-manual-fisher-ewd-ews-ewt-valves-through-nps-12x8-en-124788-page-21.png (ocr_data_extractor.py:_process_single_pdf:105)\n",
      "2024-01-04 14:40:06,953 - micro - MainProcess - INFO     Processing page 22 of C:\\Users\\pablosal\\Desktop\\gbbai-azure-ai-document-intelligence\\notebooks\\dev\\instruction-manual-fisher-ewd-ews-ewt-valves-through-nps-12x8-en-124788.pdf (ocr_data_extractor.py:_process_single_pdf:96)\n",
      "2024-01-04 14:40:07,038 - micro - MainProcess - INFO     Saved image: C:\\Users\\pablosal\\Desktop\\gbbai-azure-ai-document-intelligence\\notebooks\\dev\\images\\instruction-manual-fisher-ewd-ews-ewt-valves-through-nps-12x8-en-124788-page-22.png (ocr_data_extractor.py:_process_single_pdf:105)\n",
      "2024-01-04 14:40:07,038 - micro - MainProcess - INFO     Processing page 23 of C:\\Users\\pablosal\\Desktop\\gbbai-azure-ai-document-intelligence\\notebooks\\dev\\instruction-manual-fisher-ewd-ews-ewt-valves-through-nps-12x8-en-124788.pdf (ocr_data_extractor.py:_process_single_pdf:96)\n",
      "2024-01-04 14:40:07,103 - micro - MainProcess - INFO     Saved image: C:\\Users\\pablosal\\Desktop\\gbbai-azure-ai-document-intelligence\\notebooks\\dev\\images\\instruction-manual-fisher-ewd-ews-ewt-valves-through-nps-12x8-en-124788-page-23.png (ocr_data_extractor.py:_process_single_pdf:105)\n",
      "2024-01-04 14:40:07,103 - micro - MainProcess - INFO     Processing page 24 of C:\\Users\\pablosal\\Desktop\\gbbai-azure-ai-document-intelligence\\notebooks\\dev\\instruction-manual-fisher-ewd-ews-ewt-valves-through-nps-12x8-en-124788.pdf (ocr_data_extractor.py:_process_single_pdf:96)\n",
      "2024-01-04 14:40:07,175 - micro - MainProcess - INFO     Saved image: C:\\Users\\pablosal\\Desktop\\gbbai-azure-ai-document-intelligence\\notebooks\\dev\\images\\instruction-manual-fisher-ewd-ews-ewt-valves-through-nps-12x8-en-124788-page-24.png (ocr_data_extractor.py:_process_single_pdf:105)\n",
      "2024-01-04 14:40:07,177 - micro - MainProcess - INFO     Processing page 25 of C:\\Users\\pablosal\\Desktop\\gbbai-azure-ai-document-intelligence\\notebooks\\dev\\instruction-manual-fisher-ewd-ews-ewt-valves-through-nps-12x8-en-124788.pdf (ocr_data_extractor.py:_process_single_pdf:96)\n",
      "2024-01-04 14:40:07,238 - micro - MainProcess - INFO     Saved image: C:\\Users\\pablosal\\Desktop\\gbbai-azure-ai-document-intelligence\\notebooks\\dev\\images\\instruction-manual-fisher-ewd-ews-ewt-valves-through-nps-12x8-en-124788-page-25.png (ocr_data_extractor.py:_process_single_pdf:105)\n",
      "2024-01-04 14:40:07,238 - micro - MainProcess - INFO     Processing page 26 of C:\\Users\\pablosal\\Desktop\\gbbai-azure-ai-document-intelligence\\notebooks\\dev\\instruction-manual-fisher-ewd-ews-ewt-valves-through-nps-12x8-en-124788.pdf (ocr_data_extractor.py:_process_single_pdf:96)\n",
      "2024-01-04 14:40:07,299 - micro - MainProcess - INFO     Saved image: C:\\Users\\pablosal\\Desktop\\gbbai-azure-ai-document-intelligence\\notebooks\\dev\\images\\instruction-manual-fisher-ewd-ews-ewt-valves-through-nps-12x8-en-124788-page-26.png (ocr_data_extractor.py:_process_single_pdf:105)\n",
      "2024-01-04 14:40:07,299 - micro - MainProcess - INFO     Processing page 27 of C:\\Users\\pablosal\\Desktop\\gbbai-azure-ai-document-intelligence\\notebooks\\dev\\instruction-manual-fisher-ewd-ews-ewt-valves-through-nps-12x8-en-124788.pdf (ocr_data_extractor.py:_process_single_pdf:96)\n",
      "2024-01-04 14:40:07,389 - micro - MainProcess - INFO     Saved image: C:\\Users\\pablosal\\Desktop\\gbbai-azure-ai-document-intelligence\\notebooks\\dev\\images\\instruction-manual-fisher-ewd-ews-ewt-valves-through-nps-12x8-en-124788-page-27.png (ocr_data_extractor.py:_process_single_pdf:105)\n",
      "2024-01-04 14:40:07,389 - micro - MainProcess - INFO     Processing page 28 of C:\\Users\\pablosal\\Desktop\\gbbai-azure-ai-document-intelligence\\notebooks\\dev\\instruction-manual-fisher-ewd-ews-ewt-valves-through-nps-12x8-en-124788.pdf (ocr_data_extractor.py:_process_single_pdf:96)\n",
      "2024-01-04 14:40:07,455 - micro - MainProcess - INFO     Saved image: C:\\Users\\pablosal\\Desktop\\gbbai-azure-ai-document-intelligence\\notebooks\\dev\\images\\instruction-manual-fisher-ewd-ews-ewt-valves-through-nps-12x8-en-124788-page-28.png (ocr_data_extractor.py:_process_single_pdf:105)\n",
      "2024-01-04 14:40:07,455 - micro - MainProcess - INFO     Processing page 29 of C:\\Users\\pablosal\\Desktop\\gbbai-azure-ai-document-intelligence\\notebooks\\dev\\instruction-manual-fisher-ewd-ews-ewt-valves-through-nps-12x8-en-124788.pdf (ocr_data_extractor.py:_process_single_pdf:96)\n",
      "2024-01-04 14:40:07,555 - micro - MainProcess - INFO     Saved image: C:\\Users\\pablosal\\Desktop\\gbbai-azure-ai-document-intelligence\\notebooks\\dev\\images\\instruction-manual-fisher-ewd-ews-ewt-valves-through-nps-12x8-en-124788-page-29.png (ocr_data_extractor.py:_process_single_pdf:105)\n",
      "2024-01-04 14:40:07,557 - micro - MainProcess - INFO     Processing page 30 of C:\\Users\\pablosal\\Desktop\\gbbai-azure-ai-document-intelligence\\notebooks\\dev\\instruction-manual-fisher-ewd-ews-ewt-valves-through-nps-12x8-en-124788.pdf (ocr_data_extractor.py:_process_single_pdf:96)\n",
      "2024-01-04 14:40:07,645 - micro - MainProcess - INFO     Saved image: C:\\Users\\pablosal\\Desktop\\gbbai-azure-ai-document-intelligence\\notebooks\\dev\\images\\instruction-manual-fisher-ewd-ews-ewt-valves-through-nps-12x8-en-124788-page-30.png (ocr_data_extractor.py:_process_single_pdf:105)\n",
      "2024-01-04 14:40:07,648 - micro - MainProcess - INFO     Processing page 31 of C:\\Users\\pablosal\\Desktop\\gbbai-azure-ai-document-intelligence\\notebooks\\dev\\instruction-manual-fisher-ewd-ews-ewt-valves-through-nps-12x8-en-124788.pdf (ocr_data_extractor.py:_process_single_pdf:96)\n",
      "2024-01-04 14:40:07,793 - micro - MainProcess - INFO     Saved image: C:\\Users\\pablosal\\Desktop\\gbbai-azure-ai-document-intelligence\\notebooks\\dev\\images\\instruction-manual-fisher-ewd-ews-ewt-valves-through-nps-12x8-en-124788-page-31.png (ocr_data_extractor.py:_process_single_pdf:105)\n",
      "2024-01-04 14:40:07,795 - micro - MainProcess - INFO     Processing page 32 of C:\\Users\\pablosal\\Desktop\\gbbai-azure-ai-document-intelligence\\notebooks\\dev\\instruction-manual-fisher-ewd-ews-ewt-valves-through-nps-12x8-en-124788.pdf (ocr_data_extractor.py:_process_single_pdf:96)\n",
      "2024-01-04 14:40:07,867 - micro - MainProcess - INFO     Saved image: C:\\Users\\pablosal\\Desktop\\gbbai-azure-ai-document-intelligence\\notebooks\\dev\\images\\instruction-manual-fisher-ewd-ews-ewt-valves-through-nps-12x8-en-124788-page-32.png (ocr_data_extractor.py:_process_single_pdf:105)\n",
      "2024-01-04 14:40:07,867 - micro - MainProcess - INFO     Processing page 33 of C:\\Users\\pablosal\\Desktop\\gbbai-azure-ai-document-intelligence\\notebooks\\dev\\instruction-manual-fisher-ewd-ews-ewt-valves-through-nps-12x8-en-124788.pdf (ocr_data_extractor.py:_process_single_pdf:96)\n",
      "2024-01-04 14:40:07,949 - micro - MainProcess - INFO     Saved image: C:\\Users\\pablosal\\Desktop\\gbbai-azure-ai-document-intelligence\\notebooks\\dev\\images\\instruction-manual-fisher-ewd-ews-ewt-valves-through-nps-12x8-en-124788-page-33.png (ocr_data_extractor.py:_process_single_pdf:105)\n",
      "2024-01-04 14:40:07,951 - micro - MainProcess - INFO     Processing page 34 of C:\\Users\\pablosal\\Desktop\\gbbai-azure-ai-document-intelligence\\notebooks\\dev\\instruction-manual-fisher-ewd-ews-ewt-valves-through-nps-12x8-en-124788.pdf (ocr_data_extractor.py:_process_single_pdf:96)\n",
      "2024-01-04 14:40:08,022 - micro - MainProcess - INFO     Saved image: C:\\Users\\pablosal\\Desktop\\gbbai-azure-ai-document-intelligence\\notebooks\\dev\\images\\instruction-manual-fisher-ewd-ews-ewt-valves-through-nps-12x8-en-124788-page-34.png (ocr_data_extractor.py:_process_single_pdf:105)\n",
      "2024-01-04 14:40:08,023 - micro - MainProcess - INFO     Processing page 35 of C:\\Users\\pablosal\\Desktop\\gbbai-azure-ai-document-intelligence\\notebooks\\dev\\instruction-manual-fisher-ewd-ews-ewt-valves-through-nps-12x8-en-124788.pdf (ocr_data_extractor.py:_process_single_pdf:96)\n",
      "2024-01-04 14:40:08,123 - micro - MainProcess - INFO     Saved image: C:\\Users\\pablosal\\Desktop\\gbbai-azure-ai-document-intelligence\\notebooks\\dev\\images\\instruction-manual-fisher-ewd-ews-ewt-valves-through-nps-12x8-en-124788-page-35.png (ocr_data_extractor.py:_process_single_pdf:105)\n",
      "2024-01-04 14:40:08,123 - micro - MainProcess - INFO     Processing page 36 of C:\\Users\\pablosal\\Desktop\\gbbai-azure-ai-document-intelligence\\notebooks\\dev\\instruction-manual-fisher-ewd-ews-ewt-valves-through-nps-12x8-en-124788.pdf (ocr_data_extractor.py:_process_single_pdf:96)\n",
      "2024-01-04 14:40:08,187 - micro - MainProcess - INFO     Saved image: C:\\Users\\pablosal\\Desktop\\gbbai-azure-ai-document-intelligence\\notebooks\\dev\\images\\instruction-manual-fisher-ewd-ews-ewt-valves-through-nps-12x8-en-124788-page-36.png (ocr_data_extractor.py:_process_single_pdf:105)\n",
      "2024-01-04 14:40:08,187 - micro - MainProcess - INFO     Processing page 37 of C:\\Users\\pablosal\\Desktop\\gbbai-azure-ai-document-intelligence\\notebooks\\dev\\instruction-manual-fisher-ewd-ews-ewt-valves-through-nps-12x8-en-124788.pdf (ocr_data_extractor.py:_process_single_pdf:96)\n",
      "2024-01-04 14:40:08,315 - micro - MainProcess - INFO     Saved image: C:\\Users\\pablosal\\Desktop\\gbbai-azure-ai-document-intelligence\\notebooks\\dev\\images\\instruction-manual-fisher-ewd-ews-ewt-valves-through-nps-12x8-en-124788-page-37.png (ocr_data_extractor.py:_process_single_pdf:105)\n",
      "2024-01-04 14:40:08,316 - micro - MainProcess - INFO     Processing page 38 of C:\\Users\\pablosal\\Desktop\\gbbai-azure-ai-document-intelligence\\notebooks\\dev\\instruction-manual-fisher-ewd-ews-ewt-valves-through-nps-12x8-en-124788.pdf (ocr_data_extractor.py:_process_single_pdf:96)\n",
      "2024-01-04 14:40:08,375 - micro - MainProcess - INFO     Saved image: C:\\Users\\pablosal\\Desktop\\gbbai-azure-ai-document-intelligence\\notebooks\\dev\\images\\instruction-manual-fisher-ewd-ews-ewt-valves-through-nps-12x8-en-124788-page-38.png (ocr_data_extractor.py:_process_single_pdf:105)\n",
      "2024-01-04 14:40:08,375 - micro - MainProcess - INFO     Processing page 39 of C:\\Users\\pablosal\\Desktop\\gbbai-azure-ai-document-intelligence\\notebooks\\dev\\instruction-manual-fisher-ewd-ews-ewt-valves-through-nps-12x8-en-124788.pdf (ocr_data_extractor.py:_process_single_pdf:96)\n",
      "2024-01-04 14:40:08,454 - micro - MainProcess - INFO     Saved image: C:\\Users\\pablosal\\Desktop\\gbbai-azure-ai-document-intelligence\\notebooks\\dev\\images\\instruction-manual-fisher-ewd-ews-ewt-valves-through-nps-12x8-en-124788-page-39.png (ocr_data_extractor.py:_process_single_pdf:105)\n",
      "2024-01-04 14:40:08,470 - micro - MainProcess - INFO     Processing page 40 of C:\\Users\\pablosal\\Desktop\\gbbai-azure-ai-document-intelligence\\notebooks\\dev\\instruction-manual-fisher-ewd-ews-ewt-valves-through-nps-12x8-en-124788.pdf (ocr_data_extractor.py:_process_single_pdf:96)\n",
      "2024-01-04 14:40:08,554 - micro - MainProcess - INFO     Saved image: C:\\Users\\pablosal\\Desktop\\gbbai-azure-ai-document-intelligence\\notebooks\\dev\\images\\instruction-manual-fisher-ewd-ews-ewt-valves-through-nps-12x8-en-124788-page-40.png (ocr_data_extractor.py:_process_single_pdf:105)\n",
      "2024-01-04 14:40:08,554 - micro - MainProcess - INFO     Processing page 41 of C:\\Users\\pablosal\\Desktop\\gbbai-azure-ai-document-intelligence\\notebooks\\dev\\instruction-manual-fisher-ewd-ews-ewt-valves-through-nps-12x8-en-124788.pdf (ocr_data_extractor.py:_process_single_pdf:96)\n",
      "2024-01-04 14:40:08,653 - micro - MainProcess - INFO     Saved image: C:\\Users\\pablosal\\Desktop\\gbbai-azure-ai-document-intelligence\\notebooks\\dev\\images\\instruction-manual-fisher-ewd-ews-ewt-valves-through-nps-12x8-en-124788-page-41.png (ocr_data_extractor.py:_process_single_pdf:105)\n",
      "2024-01-04 14:40:08,653 - micro - MainProcess - INFO     Processing page 42 of C:\\Users\\pablosal\\Desktop\\gbbai-azure-ai-document-intelligence\\notebooks\\dev\\instruction-manual-fisher-ewd-ews-ewt-valves-through-nps-12x8-en-124788.pdf (ocr_data_extractor.py:_process_single_pdf:96)\n",
      "2024-01-04 14:40:08,759 - micro - MainProcess - INFO     Saved image: C:\\Users\\pablosal\\Desktop\\gbbai-azure-ai-document-intelligence\\notebooks\\dev\\images\\instruction-manual-fisher-ewd-ews-ewt-valves-through-nps-12x8-en-124788-page-42.png (ocr_data_extractor.py:_process_single_pdf:105)\n",
      "2024-01-04 14:40:08,760 - micro - MainProcess - INFO     Processing page 43 of C:\\Users\\pablosal\\Desktop\\gbbai-azure-ai-document-intelligence\\notebooks\\dev\\instruction-manual-fisher-ewd-ews-ewt-valves-through-nps-12x8-en-124788.pdf (ocr_data_extractor.py:_process_single_pdf:96)\n",
      "2024-01-04 14:40:08,867 - micro - MainProcess - INFO     Saved image: C:\\Users\\pablosal\\Desktop\\gbbai-azure-ai-document-intelligence\\notebooks\\dev\\images\\instruction-manual-fisher-ewd-ews-ewt-valves-through-nps-12x8-en-124788-page-43.png (ocr_data_extractor.py:_process_single_pdf:105)\n",
      "2024-01-04 14:40:08,867 - micro - MainProcess - INFO     Processing page 44 of C:\\Users\\pablosal\\Desktop\\gbbai-azure-ai-document-intelligence\\notebooks\\dev\\instruction-manual-fisher-ewd-ews-ewt-valves-through-nps-12x8-en-124788.pdf (ocr_data_extractor.py:_process_single_pdf:96)\n",
      "2024-01-04 14:40:08,992 - micro - MainProcess - INFO     Saved image: C:\\Users\\pablosal\\Desktop\\gbbai-azure-ai-document-intelligence\\notebooks\\dev\\images\\instruction-manual-fisher-ewd-ews-ewt-valves-through-nps-12x8-en-124788-page-44.png (ocr_data_extractor.py:_process_single_pdf:105)\n",
      "2024-01-04 14:40:08,992 - micro - MainProcess - INFO     Processing page 45 of C:\\Users\\pablosal\\Desktop\\gbbai-azure-ai-document-intelligence\\notebooks\\dev\\instruction-manual-fisher-ewd-ews-ewt-valves-through-nps-12x8-en-124788.pdf (ocr_data_extractor.py:_process_single_pdf:96)\n",
      "2024-01-04 14:40:09,071 - micro - MainProcess - INFO     Saved image: C:\\Users\\pablosal\\Desktop\\gbbai-azure-ai-document-intelligence\\notebooks\\dev\\images\\instruction-manual-fisher-ewd-ews-ewt-valves-through-nps-12x8-en-124788-page-45.png (ocr_data_extractor.py:_process_single_pdf:105)\n",
      "2024-01-04 14:40:09,071 - micro - MainProcess - INFO     Processing page 46 of C:\\Users\\pablosal\\Desktop\\gbbai-azure-ai-document-intelligence\\notebooks\\dev\\instruction-manual-fisher-ewd-ews-ewt-valves-through-nps-12x8-en-124788.pdf (ocr_data_extractor.py:_process_single_pdf:96)\n",
      "2024-01-04 14:40:09,133 - micro - MainProcess - INFO     Saved image: C:\\Users\\pablosal\\Desktop\\gbbai-azure-ai-document-intelligence\\notebooks\\dev\\images\\instruction-manual-fisher-ewd-ews-ewt-valves-through-nps-12x8-en-124788-page-46.png (ocr_data_extractor.py:_process_single_pdf:105)\n",
      "2024-01-04 14:40:09,134 - micro - MainProcess - INFO     Processing page 47 of C:\\Users\\pablosal\\Desktop\\gbbai-azure-ai-document-intelligence\\notebooks\\dev\\instruction-manual-fisher-ewd-ews-ewt-valves-through-nps-12x8-en-124788.pdf (ocr_data_extractor.py:_process_single_pdf:96)\n",
      "2024-01-04 14:40:09,187 - micro - MainProcess - INFO     Saved image: C:\\Users\\pablosal\\Desktop\\gbbai-azure-ai-document-intelligence\\notebooks\\dev\\images\\instruction-manual-fisher-ewd-ews-ewt-valves-through-nps-12x8-en-124788-page-47.png (ocr_data_extractor.py:_process_single_pdf:105)\n",
      "2024-01-04 14:40:09,187 - micro - MainProcess - INFO     Processing page 48 of C:\\Users\\pablosal\\Desktop\\gbbai-azure-ai-document-intelligence\\notebooks\\dev\\instruction-manual-fisher-ewd-ews-ewt-valves-through-nps-12x8-en-124788.pdf (ocr_data_extractor.py:_process_single_pdf:96)\n",
      "2024-01-04 14:40:09,260 - micro - MainProcess - INFO     Saved image: C:\\Users\\pablosal\\Desktop\\gbbai-azure-ai-document-intelligence\\notebooks\\dev\\images\\instruction-manual-fisher-ewd-ews-ewt-valves-through-nps-12x8-en-124788-page-48.png (ocr_data_extractor.py:_process_single_pdf:105)\n"
     ]
    }
   ],
   "source": [
    "#INPUT_PATH = 'https://testeastusdev001.blob.core.windows.net/ocrtest/instruction-manual-fisher-ewd-ews-ewt-valves-through-nps-12x8-en-124788.pdf'\n",
    "INPUT_PATH = 'C:\\\\Users\\\\pablosal\\\\Desktop\\\\gbbai-azure-ai-document-intelligence\\\\notebooks\\\\dev\\\\instruction-manual-fisher-ewd-ews-ewt-valves-through-nps-12x8-en-124788.pdf'\n",
    "OUTPUT_PATH = 'C:\\\\Users\\\\pablosal\\\\Desktop\\\\gbbai-azure-ai-document-intelligence\\\\notebooks\\\\dev\\\\images'\n",
    "\n",
    "ocr_data_extractor_helper.extract_images_from_pdf(input_path=INPUT_PATH, output_path=OUTPUT_PATH)"
   ]
  },
  {
   "cell_type": "code",
   "execution_count": 4,
   "metadata": {},
   "outputs": [
    {
     "name": "stderr",
     "output_type": "stream",
     "text": [
      "2024-01-04 14:40:12,553 - micro - MainProcess - INFO     Input path is a URL: https://testeastusdev001.blob.core.windows.net/ocrtest/instruction-manual-fisher-ewd-ews-ewt-valves-through-nps-12x8-en-124788.pdf (ocr_data_extractor.py:extract_images_from_pdf:45)\n",
      "2024-01-04 14:40:13,403 - micro - MainProcess - INFO     Found 0 PDF files in C:\\Users\\pablosal\\AppData\\Local\\Temp\\tmp5xlcp_v0 (ocr_data_extractor.py:_process_pdf_directory:75)\n"
     ]
    }
   ],
   "source": [
    "INPUT_PATH = 'https://testeastusdev001.blob.core.windows.net/ocrtest/instruction-manual-fisher-ewd-ews-ewt-valves-through-nps-12x8-en-124788.pdf'\n",
    "#INPUT_PATH = 'C:\\\\Users\\\\pablosal\\\\Desktop\\\\gbbai-azure-ai-document-intelligence\\\\notebooks\\\\dev\\\\instruction-manual-fisher-ewd-ews-ewt-valves-through-nps-12x8-en-124788.pdf'\n",
    "OUTPUT_PATH = 'C:\\\\Users\\\\pablosal\\\\Desktop\\\\gbbai-azure-ai-document-intelligence\\\\notebooks\\\\dev\\\\images'\n",
    "\n",
    "ocr_data_extractor_helper.extract_images_from_pdf(input_path=INPUT_PATH, output_path=OUTPUT_PATH)"
   ]
  }
 ],
 "metadata": {
  "kernelspec": {
   "display_name": "document-intelligence",
   "language": "python",
   "name": "python3"
  },
  "language_info": {
   "codemirror_mode": {
    "name": "ipython",
    "version": 3
   },
   "file_extension": ".py",
   "mimetype": "text/x-python",
   "name": "python",
   "nbconvert_exporter": "python",
   "pygments_lexer": "ipython3",
   "version": "3.9.18"
  }
 },
 "nbformat": 4,
 "nbformat_minor": 2
}
