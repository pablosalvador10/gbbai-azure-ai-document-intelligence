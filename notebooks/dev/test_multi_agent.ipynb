{
 "cells": [
  {
   "cell_type": "code",
   "execution_count": 1,
   "metadata": {},
   "outputs": [
    {
     "name": "stdout",
     "output_type": "stream",
     "text": [
      "Collecting pyautogen>=0.2.3 (from pyautogen[lmm]>=0.2.3)\n",
      "  Downloading pyautogen-0.2.7-py3-none-any.whl.metadata (17 kB)\n",
      "Collecting diskcache (from pyautogen>=0.2.3->pyautogen[lmm]>=0.2.3)\n",
      "  Using cached diskcache-5.6.3-py3-none-any.whl.metadata (20 kB)\n",
      "Collecting flaml (from pyautogen>=0.2.3->pyautogen[lmm]>=0.2.3)\n",
      "  Using cached FLAML-2.1.1-py3-none-any.whl.metadata (15 kB)\n",
      "Requirement already satisfied: openai>=1.3 in c:\\users\\pablosal\\appdata\\local\\anaconda3\\envs\\document-intelligence\\lib\\site-packages (from pyautogen>=0.2.3->pyautogen[lmm]>=0.2.3) (1.8.0)\n",
      "Requirement already satisfied: pydantic<3,>=1.10 in c:\\users\\pablosal\\appdata\\local\\anaconda3\\envs\\document-intelligence\\lib\\site-packages (from pyautogen>=0.2.3->pyautogen[lmm]>=0.2.3) (2.5.3)\n",
      "Requirement already satisfied: python-dotenv in c:\\users\\pablosal\\appdata\\local\\anaconda3\\envs\\document-intelligence\\lib\\site-packages (from pyautogen>=0.2.3->pyautogen[lmm]>=0.2.3) (1.0.0)\n",
      "Collecting termcolor (from pyautogen>=0.2.3->pyautogen[lmm]>=0.2.3)\n",
      "  Using cached termcolor-2.4.0-py3-none-any.whl.metadata (6.1 kB)\n",
      "Requirement already satisfied: tiktoken in c:\\users\\pablosal\\appdata\\local\\anaconda3\\envs\\document-intelligence\\lib\\site-packages (from pyautogen>=0.2.3->pyautogen[lmm]>=0.2.3) (0.5.2)\n",
      "Requirement already satisfied: pillow in c:\\users\\pablosal\\appdata\\local\\anaconda3\\envs\\document-intelligence\\lib\\site-packages (from pyautogen[lmm]>=0.2.3) (10.2.0)\n",
      "Collecting replicate (from pyautogen[lmm]>=0.2.3)\n",
      "  Downloading replicate-0.22.0-py3-none-any.whl.metadata (22 kB)\n",
      "Requirement already satisfied: anyio<5,>=3.5.0 in c:\\users\\pablosal\\appdata\\local\\anaconda3\\envs\\document-intelligence\\lib\\site-packages (from openai>=1.3->pyautogen>=0.2.3->pyautogen[lmm]>=0.2.3) (4.2.0)\n",
      "Requirement already satisfied: distro<2,>=1.7.0 in c:\\users\\pablosal\\appdata\\local\\anaconda3\\envs\\document-intelligence\\lib\\site-packages (from openai>=1.3->pyautogen>=0.2.3->pyautogen[lmm]>=0.2.3) (1.9.0)\n",
      "Requirement already satisfied: httpx<1,>=0.23.0 in c:\\users\\pablosal\\appdata\\local\\anaconda3\\envs\\document-intelligence\\lib\\site-packages (from openai>=1.3->pyautogen>=0.2.3->pyautogen[lmm]>=0.2.3) (0.26.0)\n",
      "Requirement already satisfied: sniffio in c:\\users\\pablosal\\appdata\\local\\anaconda3\\envs\\document-intelligence\\lib\\site-packages (from openai>=1.3->pyautogen>=0.2.3->pyautogen[lmm]>=0.2.3) (1.3.0)\n",
      "Requirement already satisfied: tqdm>4 in c:\\users\\pablosal\\appdata\\local\\anaconda3\\envs\\document-intelligence\\lib\\site-packages (from openai>=1.3->pyautogen>=0.2.3->pyautogen[lmm]>=0.2.3) (4.66.1)\n",
      "Requirement already satisfied: typing-extensions<5,>=4.7 in c:\\users\\pablosal\\appdata\\local\\anaconda3\\envs\\document-intelligence\\lib\\site-packages (from openai>=1.3->pyautogen>=0.2.3->pyautogen[lmm]>=0.2.3) (4.9.0)\n",
      "Requirement already satisfied: annotated-types>=0.4.0 in c:\\users\\pablosal\\appdata\\local\\anaconda3\\envs\\document-intelligence\\lib\\site-packages (from pydantic<3,>=1.10->pyautogen>=0.2.3->pyautogen[lmm]>=0.2.3) (0.6.0)\n",
      "Requirement already satisfied: pydantic-core==2.14.6 in c:\\users\\pablosal\\appdata\\local\\anaconda3\\envs\\document-intelligence\\lib\\site-packages (from pydantic<3,>=1.10->pyautogen>=0.2.3->pyautogen[lmm]>=0.2.3) (2.14.6)\n",
      "Requirement already satisfied: NumPy>=1.17.0rc1 in c:\\users\\pablosal\\appdata\\local\\anaconda3\\envs\\document-intelligence\\lib\\site-packages (from flaml->pyautogen>=0.2.3->pyautogen[lmm]>=0.2.3) (1.26.3)\n",
      "Requirement already satisfied: packaging in c:\\users\\pablosal\\appdata\\local\\anaconda3\\envs\\document-intelligence\\lib\\site-packages (from replicate->pyautogen[lmm]>=0.2.3) (23.2)\n",
      "Requirement already satisfied: regex>=2022.1.18 in c:\\users\\pablosal\\appdata\\local\\anaconda3\\envs\\document-intelligence\\lib\\site-packages (from tiktoken->pyautogen>=0.2.3->pyautogen[lmm]>=0.2.3) (2023.12.25)\n",
      "Requirement already satisfied: requests>=2.26.0 in c:\\users\\pablosal\\appdata\\local\\anaconda3\\envs\\document-intelligence\\lib\\site-packages (from tiktoken->pyautogen>=0.2.3->pyautogen[lmm]>=0.2.3) (2.31.0)\n",
      "Requirement already satisfied: idna>=2.8 in c:\\users\\pablosal\\appdata\\local\\anaconda3\\envs\\document-intelligence\\lib\\site-packages (from anyio<5,>=3.5.0->openai>=1.3->pyautogen>=0.2.3->pyautogen[lmm]>=0.2.3) (3.6)\n",
      "Requirement already satisfied: exceptiongroup>=1.0.2 in c:\\users\\pablosal\\appdata\\local\\anaconda3\\envs\\document-intelligence\\lib\\site-packages (from anyio<5,>=3.5.0->openai>=1.3->pyautogen>=0.2.3->pyautogen[lmm]>=0.2.3) (1.2.0)\n",
      "Requirement already satisfied: certifi in c:\\users\\pablosal\\appdata\\local\\anaconda3\\envs\\document-intelligence\\lib\\site-packages (from httpx<1,>=0.23.0->openai>=1.3->pyautogen>=0.2.3->pyautogen[lmm]>=0.2.3) (2023.11.17)\n",
      "Requirement already satisfied: httpcore==1.* in c:\\users\\pablosal\\appdata\\local\\anaconda3\\envs\\document-intelligence\\lib\\site-packages (from httpx<1,>=0.23.0->openai>=1.3->pyautogen>=0.2.3->pyautogen[lmm]>=0.2.3) (1.0.2)\n",
      "Requirement already satisfied: h11<0.15,>=0.13 in c:\\users\\pablosal\\appdata\\local\\anaconda3\\envs\\document-intelligence\\lib\\site-packages (from httpcore==1.*->httpx<1,>=0.23.0->openai>=1.3->pyautogen>=0.2.3->pyautogen[lmm]>=0.2.3) (0.14.0)\n",
      "Requirement already satisfied: charset-normalizer<4,>=2 in c:\\users\\pablosal\\appdata\\local\\anaconda3\\envs\\document-intelligence\\lib\\site-packages (from requests>=2.26.0->tiktoken->pyautogen>=0.2.3->pyautogen[lmm]>=0.2.3) (3.3.2)\n",
      "Requirement already satisfied: urllib3<3,>=1.21.1 in c:\\users\\pablosal\\appdata\\local\\anaconda3\\envs\\document-intelligence\\lib\\site-packages (from requests>=2.26.0->tiktoken->pyautogen>=0.2.3->pyautogen[lmm]>=0.2.3) (2.1.0)\n",
      "Requirement already satisfied: colorama in c:\\users\\pablosal\\appdata\\local\\anaconda3\\envs\\document-intelligence\\lib\\site-packages (from tqdm>4->openai>=1.3->pyautogen>=0.2.3->pyautogen[lmm]>=0.2.3) (0.4.6)\n",
      "Downloading pyautogen-0.2.7-py3-none-any.whl (143 kB)\n",
      "   ---------------------------------------- 0.0/143.5 kB ? eta -:--:--\n",
      "   ------------------------- -------------- 92.2/143.5 kB 2.6 MB/s eta 0:00:01\n",
      "   ---------------------------------------- 143.5/143.5 kB 2.8 MB/s eta 0:00:00\n",
      "Using cached diskcache-5.6.3-py3-none-any.whl (45 kB)\n",
      "Using cached FLAML-2.1.1-py3-none-any.whl (295 kB)\n",
      "Downloading replicate-0.22.0-py3-none-any.whl (35 kB)\n",
      "Using cached termcolor-2.4.0-py3-none-any.whl (7.7 kB)\n",
      "Installing collected packages: termcolor, flaml, diskcache, replicate, pyautogen\n",
      "Successfully installed diskcache-5.6.3 flaml-2.1.1 pyautogen-0.2.7 replicate-0.22.0 termcolor-2.4.0\n"
     ]
    }
   ],
   "source": [
    "#!pip install \"pyautogen[lmm]>=0.2.3\""
   ]
  },
  {
   "cell_type": "code",
   "execution_count": 2,
   "metadata": {},
   "outputs": [],
   "source": [
    "from autogen.agentchat.contrib.multimodal_conversable_agent import MultimodalConversableAgent  # for GPT-4V\n"
   ]
  },
  {
   "cell_type": "code",
   "execution_count": 3,
   "metadata": {},
   "outputs": [
    {
     "ename": "TypeError",
     "evalue": "__init__() missing 1 required positional argument: 'name'",
     "output_type": "error",
     "traceback": [
      "\u001b[1;31m---------------------------------------------------------------------------\u001b[0m",
      "\u001b[1;31mTypeError\u001b[0m                                 Traceback (most recent call last)",
      "Cell \u001b[1;32mIn[3], line 1\u001b[0m\n\u001b[1;32m----> 1\u001b[0m agent \u001b[38;5;241m=\u001b[39m \u001b[43mMultimodalConversableAgent\u001b[49m\u001b[43m(\u001b[49m\u001b[43m)\u001b[49m\n",
      "\u001b[1;31mTypeError\u001b[0m: __init__() missing 1 required positional argument: 'name'"
     ]
    }
   ],
   "source": [
    "import autogen\n",
    "\n",
    "config_list = [\n",
    "    {\n",
    "        'model': 'gpt-4',\n",
    "        'api_key': '<your Azure OpenAI API key here>',\n",
    "        'base_url': '<your Azure OpenAI API base here>',\n",
    "        'api_type': 'azure',\n",
    "        'api_version': '2023-06-01-preview',\n",
    "    },\n",
    "]"
   ]
  }
 ],
 "metadata": {
  "kernelspec": {
   "display_name": "document-intelligence",
   "language": "python",
   "name": "python3"
  },
  "language_info": {
   "codemirror_mode": {
    "name": "ipython",
    "version": 3
   },
   "file_extension": ".py",
   "mimetype": "text/x-python",
   "name": "python",
   "nbconvert_exporter": "python",
   "pygments_lexer": "ipython3",
   "version": "3.9.18"
  }
 },
 "nbformat": 4,
 "nbformat_minor": 2
}
