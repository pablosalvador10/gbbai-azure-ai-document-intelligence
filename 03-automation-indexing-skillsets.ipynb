{
 "cells": [
  {
   "cell_type": "markdown",
   "metadata": {},
   "source": [
    "# Azure AI Search Orchestration: A Deep Dive into Indexers, Skillsets, and Skills\n",
    "\n",
    "Azure AI Search offers advanced search capabilities through a well-coordinated operation of **indexers**, **skillsets**, and **skills**. This hierarchical relationship ensures seamless and efficient data ingestion, enrichment, and searchability.\n",
    "\n",
    "![Orchestrator Image](./utils/images/orchestrator.png)\n",
    "\n",
    "## Components of Azure AI Search Orchestration\n",
    "\n",
    "### 1. Indexers\n",
    "\n",
    "- **Definition:** Indexers in Azure AI Search automate the process of ingesting, transforming, and loading data from various data sources into an Azure AI search index.\n",
    "- **Operation:** An indexer connects to a data source, retrieves content, and optionally applies a skillset to transform and enrich the data before loading it into a search index.\n",
    "- **Supported Data Sources:** Azure Blob Storage, Azure Cosmos DB, Azure SQL Database, and others.\n",
    "- **Example:** An indexer might ingest documents from Azure Blob Storage, apply a skillset for OCR and entity recognition, and then populate an Azure AI Search index with the enriched content.\n",
    "\n",
    "### 2. Skillsets\n",
    "\n",
    "- **Definition:** A skillset is a collection of skills that execute built-in AI or custom processing over documents retrieved from an external data source. Skillsets are reusable resources in Azure AI Search.\n",
    "- **Operation:** Skills within a skillset transform the content based on the skill's function. The outputs can be text, structured data, or image descriptions.\n",
    "- **Example:** A skillset might include an OCR skill for image content, a text translation skill for multilingual support, and an entity recognition skill.\n",
    "\n",
    "### 3. Skills\n",
    "\n",
    "- **Definition:** Skills are operations that transform content. They can be text-based for full-text search or vector-based for vector search.\n",
    "- **Types:**\n",
    "  - **Built-in Skills:**  These skills wrap API calls to Azure resources. They are based on pretrained models from Microsoft and can include operations like entity recognition, language detection, and sentiment analysis.\n",
    "  - **Custom Skills:** Custom code executed externally to the search service, often hosted on an Azure function app. These skills extend the AI enrichment pipeline with custom processing logic.\n",
    "  - **Utility Skills:** : Internal to Azure AI Search, these skills perform operations like conditional processing, document extraction, and text splitting.\n",
    "- **Examples:** Text extraction, language detection, entity recognition, and optical character recognition (OCR).\n",
    "\n",
    "For more information, please take a look at the [documentation here](https://learn.microsoft.com/en-us/azure/search/search-indexer-overview)."
   ]
  },
  {
   "cell_type": "markdown",
   "metadata": {},
   "source": [
    "## 📋 Table of Contents\n",
    "\n",
    "This notebook guides you through the following sections:\n",
    "\n",
    "1. [**Create Index**](#create-index)\n",
    "2. [**Creating DataSource**](#creating-datasource)\n",
    "3. [**Adding Skills**](#adding-skills)\n",
    "4. [**Creating Skillsets**](#creating-skillsets)\n",
    "5. [**Creating the Indexer**](#creating-the-indexer)"
   ]
  },
  {
   "cell_type": "code",
   "execution_count": 1,
   "metadata": {},
   "outputs": [
    {
     "name": "stdout",
     "output_type": "stream",
     "text": [
      "Directory changed to C:\\Users\\pablosal\\Desktop\\gbbai-azure-ai-document-intelligence\n"
     ]
    }
   ],
   "source": [
    "import os\n",
    "\n",
    "# Define the target directory\n",
    "target_directory = r\"C:\\Users\\pablosal\\Desktop\\gbbai-azure-ai-document-intelligence\"  # change your directory here\n",
    "\n",
    "# Check if the directory exists\n",
    "if os.path.exists(target_directory):\n",
    "    # Change the current working directory\n",
    "    os.chdir(target_directory)\n",
    "    print(f\"Directory changed to {os.getcwd()}\")\n",
    "else:\n",
    "    print(f\"Directory {target_directory} does not exist.\")"
   ]
  },
  {
   "cell_type": "code",
   "execution_count": 2,
   "metadata": {},
   "outputs": [],
   "source": [
    "from src.azure_search_ai.indexer import AzureIndexerManager\n",
    "\n",
    "az_indexer_client = AzureIndexerManager()"
   ]
  },
  {
   "cell_type": "markdown",
   "metadata": {},
   "source": [
    "## Create Index"
   ]
  },
  {
   "cell_type": "code",
   "execution_count": 3,
   "metadata": {},
   "outputs": [],
   "source": [
    "from azure.search.documents.indexes.models import (\n",
    "    SearchField,\n",
    "    SearchFieldDataType,\n",
    "    SimpleField,\n",
    "    SearchableField,\n",
    "    SearchField,\n",
    "    SearchField,\n",
    "    SearchFieldDataType,\n",
    "    SimpleField,\n",
    "    SearchableField,\n",
    "    SearchField,\n",
    "    SearchFieldDataType,\n",
    "    SimpleField,\n",
    "    SearchableField,\n",
    "    HnswAlgorithmConfiguration,\n",
    "    VectorSearchAlgorithmKind,\n",
    "    HnswParameters,\n",
    "    SearchField,\n",
    "    VectorSearch,\n",
    "    VectorSearchAlgorithmMetric,\n",
    "    ExhaustiveKnnAlgorithmConfiguration,\n",
    "    ExhaustiveKnnParameters,\n",
    "    VectorSearchProfile,\n",
    "    SemanticConfiguration,\n",
    "    SemanticField,\n",
    "    SemanticSearch,\n",
    "    SemanticPrioritizedFields,\n",
    ")"
   ]
  },
  {
   "cell_type": "code",
   "execution_count": 4,
   "metadata": {},
   "outputs": [],
   "source": [
    "# define field types for index\n",
    "images_index_fields = [\n",
    "    SimpleField(\n",
    "        name=\"id\",\n",
    "        type=SearchFieldDataType.String,\n",
    "        key=True,\n",
    "        sortable=True,\n",
    "        filterable=True,\n",
    "        facetable=True,\n",
    "    ),\n",
    "    SimpleField(name=\"url\", type=SearchFieldDataType.String),\n",
    "    SimpleField(name=\"categoryEnriched\", type=SearchFieldDataType.String),\n",
    "    SearchableField(name=\"title\", type=SearchFieldDataType.String),\n",
    "    SearchableField(name=\"summary\", type=SearchFieldDataType.String),\n",
    "    SearchField(\n",
    "        name=\"summaryVector\",\n",
    "        type=SearchFieldDataType.Collection(SearchFieldDataType.Single),\n",
    "        searchable=True,\n",
    "        vector_search_dimensions=1536,\n",
    "        vector_search_profile_name=\"myHnswProfile\",\n",
    "    ),\n",
    "]\n",
    "\n",
    "# Configure the vector search configuration\n",
    "vector_search = VectorSearch(\n",
    "    algorithms=[\n",
    "        HnswAlgorithmConfiguration(\n",
    "            name=\"myHnsw\",\n",
    "            kind=VectorSearchAlgorithmKind.HNSW,\n",
    "            parameters=HnswParameters(\n",
    "                m=5,\n",
    "                ef_construction=300,\n",
    "                ef_search=400,\n",
    "                metric=VectorSearchAlgorithmMetric.COSINE,\n",
    "            ),\n",
    "        ),\n",
    "        ExhaustiveKnnAlgorithmConfiguration(\n",
    "            name=\"myExhaustiveKnn\",\n",
    "            kind=VectorSearchAlgorithmKind.EXHAUSTIVE_KNN,\n",
    "            parameters=ExhaustiveKnnParameters(\n",
    "                metric=VectorSearchAlgorithmMetric.COSINE\n",
    "            ),\n",
    "        ),\n",
    "    ],\n",
    "    profiles=[\n",
    "        VectorSearchProfile(\n",
    "            name=\"myHnswProfile\",\n",
    "            algorithm_configuration_name=\"myHnsw\",\n",
    "        ),\n",
    "        VectorSearchProfile(\n",
    "            name=\"myExhaustiveKnnProfile\",\n",
    "            algorithm_configuration_name=\"myExhaustiveKnn\",\n",
    "        ),\n",
    "    ],\n",
    ")\n",
    "\n",
    "semantic_config_images = SemanticConfiguration(\n",
    "    name=\"index-semantic-config\",\n",
    "    prioritized_fields=SemanticPrioritizedFields(\n",
    "        title_field=SemanticField(field_name=\"title\"),\n",
    "        keywords_fields=[SemanticField(field_name=\"categoryEnriched\")],\n",
    "        content_fields=[SemanticField(field_name=\"summary\")],\n",
    "    ),\n",
    ")\n",
    "# Create the semantic settings with the configuration\n",
    "semantic_search = SemanticSearch(configurations=[semantic_config_images])"
   ]
  },
  {
   "cell_type": "code",
   "execution_count": 5,
   "metadata": {},
   "outputs": [
    {
     "name": "stderr",
     "output_type": "stream",
     "text": [
      "2024-01-30 19:09:06,309 - micro - MainProcess - INFO     Index test-skillset-index created (core.py:create_index:134)\n"
     ]
    }
   ],
   "source": [
    "az_indexer_client.create_index(\n",
    "    index_name=\"test-skillset-index\",\n",
    "    fields=images_index_fields,\n",
    "    vector_search=vector_search,\n",
    "    semantic_search=semantic_search,\n",
    ")"
   ]
  },
  {
   "cell_type": "markdown",
   "metadata": {},
   "source": [
    "## Creating DataSource"
   ]
  },
  {
   "cell_type": "code",
   "execution_count": 6,
   "metadata": {},
   "outputs": [
    {
     "name": "stderr",
     "output_type": "stream",
     "text": [
      "2024-01-30 19:09:09,122 - micro - MainProcess - INFO     Data source 'ocr-pdf-blob-datasource' created or updated (core.py:create_data_source_connection:166)\n"
     ]
    }
   ],
   "source": [
    "az_indexer_client.create_data_source_connection(\n",
    "    name=\"ocr-pdf-blob-datasource\",\n",
    "    description=\"\"\"Data source for OCR images extracted from PDFs \n",
    "                                                for multimodal search purposes\"\"\",\n",
    "    container_name=\"customskillspdf\",\n",
    "    type=\"azureblob\",\n",
    ")"
   ]
  },
  {
   "cell_type": "markdown",
   "metadata": {},
   "source": [
    "## Adding Skills "
   ]
  },
  {
   "cell_type": "code",
   "execution_count": 21,
   "metadata": {},
   "outputs": [],
   "source": [
    "inputs = [{\"name\": \"text\", \"source\": \"/document/description\"}]\n",
    "\n",
    "outputs = [{\"name\": \"embedding\", \"targetName\": \"vector\"}]"
   ]
  },
  {
   "cell_type": "code",
   "execution_count": 22,
   "metadata": {},
   "outputs": [],
   "source": [
    "az_indexer_client.add_built_in_skill(\n",
    "    odata_type=\"EmbeddingSkill\",\n",
    "    name=\"image-ocr-embedding-skill\",\n",
    "    description=\"Vectorize summaries extracted from images using ada\",\n",
    "    context=\"/document\",\n",
    "    inputs=inputs,\n",
    "    outputs=outputs,\n",
    ")"
   ]
  },
  {
   "cell_type": "markdown",
   "metadata": {},
   "source": [
    "## Creating skillsets "
   ]
  },
  {
   "cell_type": "code",
   "execution_count": 23,
   "metadata": {},
   "outputs": [
    {
     "name": "stderr",
     "output_type": "stream",
     "text": [
      "2024-01-30 19:12:27,699 - micro - MainProcess - INFO     Skillset: \n",
      "{\n",
      "    \"name\": \"pdf-embedding-skillset-test\",\n",
      "    \"description\": \"Skillset to generate embeddings for images using Azure OpenAI\",\n",
      "    \"skills\": [\n",
      "        {\n",
      "            \"@odata.type\": \"#Microsoft.Skills.Text.AzureOpenAIEmbeddingSkill\",\n",
      "            \"name\": \"image-ocr-embedding-skill\",\n",
      "            \"description\": \"Vectorize summaries extracted from images using ada\",\n",
      "            \"context\": \"/document\",\n",
      "            \"resourceUri\": \"https://ml-workspace-dev-canadaeast-001-aoai.openai.azure.com\",\n",
      "            \"apiKey\": \"fa4384cb235b4b4781ee2af4c997f37b\",\n",
      "            \"deploymentId\": \"foundational-canadaeast-ada\",\n",
      "            \"inputs\": [\n",
      "                {\n",
      "                    \"name\": \"text\",\n",
      "                    \"source\": \"/document/description\"\n",
      "                }\n",
      "            ],\n",
      "            \"outputs\": [\n",
      "                {\n",
      "                    \"name\": \"embedding\",\n",
      "                    \"targetName\": \"vector\"\n",
      "                }\n",
      "            ]\n",
      "        }\n",
      "    ]\n",
      "} (indexer.py:create_skillset:174)\n"
     ]
    }
   ],
   "source": [
    "az_indexer_client.create_skillset(\n",
    "    name=\"pdf-embedding-skillset-test\",\n",
    "    description=\"Skillset to generate embeddings for images using Azure OpenAI\",\n",
    ")"
   ]
  },
  {
   "cell_type": "markdown",
   "metadata": {},
   "source": [
    "## Creating the Indexer\n",
    "\n",
    "In Azure AI Search, the indexer is a crucial component that carries out the heavy lifting. It operates by ingesting data from your data source and processing it to make it searchable."
   ]
  },
  {
   "cell_type": "code",
   "execution_count": 24,
   "metadata": {},
   "outputs": [],
   "source": [
    "parameters = {\n",
    "    \"maxFailedItems\": 0,  # The maximum number of items that can fail before the indexer is considered to have failed\n",
    "    \"maxFailedItemsPerBatch\": 0,  # The maximum number of items that can fail in a batch before the batch is considered to have failed\n",
    "    \"configuration\": {\n",
    "        \"dataToExtract\": \"allMetadata\",  # The type of data to extract from the source\n",
    "        \"parsingMode\": \"default\",  # The parsing mode to use\n",
    "        \"indexedFileNameExtensions\": \".pdf\",  # The file extensions to index\n",
    "    },\n",
    "}"
   ]
  },
  {
   "cell_type": "code",
   "execution_count": 25,
   "metadata": {},
   "outputs": [],
   "source": [
    "field_mappings = [  # The mappings from source fields to target fields\n",
    "    {\n",
    "        \"sourceFieldName\": \"metadata_storage_path\",  # The source field\n",
    "        \"targetFieldName\": \"path\",  # The target field\n",
    "        \"mappingFunction\": {\n",
    "            \"name\": \"base64Encode\"  # The function to use to map the source field to the target field\n",
    "        },\n",
    "    },\n",
    "    {\"sourceFieldName\": \"metadata_storage_name\", \"targetFieldName\": \"name\"},\n",
    "    {\"sourceFieldName\": \"metadata_storage_path\", \"targetFieldName\": \"url\"},\n",
    "]"
   ]
  },
  {
   "cell_type": "code",
   "execution_count": 26,
   "metadata": {},
   "outputs": [],
   "source": [
    "output_field_mappings = [  # The mappings from output fields to target fields\n",
    "    {\"sourceFieldName\": \"/document/textVector\", \"targetFieldName\": \"textVector\"},\n",
    "    {\"sourceFieldName\": \"/document/imageVector\", \"targetFieldName\": \"imageVector\"},\n",
    "    {\"sourceFieldName\": \"/document/description\", \"targetFieldName\": \"description\"},\n",
    "]"
   ]
  },
  {
   "cell_type": "code",
   "execution_count": 27,
   "metadata": {},
   "outputs": [
    {
     "ename": "",
     "evalue": "",
     "output_type": "error",
     "traceback": [
      "\u001b[1;31mThe Kernel crashed while executing code in the the current cell or a previous cell. Please review the code in the cell(s) to identify a possible cause of the failure. Click <a href='https://aka.ms/vscodeJupyterKernelCrash'>here</a> for more info. View Jupyter <a href='command:jupyter.viewOutput'>log</a> for further details."
     ]
    }
   ],
   "source": [
    "az_indexer_client.create_indexer(\n",
    "    indexer_name=\"testindexer\",\n",
    "    description=\"indexingtest\",\n",
    "    data_source_name=\"ocr-image-blob-datasource\",\n",
    "    skillset_name=\"test12345\",\n",
    "    target_index_name=\"image-ocr-index\",\n",
    "    parameters=parameters,\n",
    "    field_mappings=field_mappings,\n",
    "    output_field_mappings=output_field_mappings,\n",
    ")"
   ]
  },
  {
   "cell_type": "markdown",
   "metadata": {},
   "source": [
    "## Custom Skill"
   ]
  },
  {
   "cell_type": "code",
   "execution_count": 8,
   "metadata": {},
   "outputs": [],
   "source": [
    "az_indexer_client.add_custom_skill(\n",
    "    name=\"ocr-pdf-skill\",\n",
    "    description=\"\"\"Custom skill to extract text from PDFs\"\"\",\n",
    "    uri=\"\",  # <--- Add the URI of the skill\n",
    "    context=\"document\",\n",
    "    inputs=inputs,\n",
    "    outputs=outputs,\n",
    ")"
   ]
  }
 ],
 "metadata": {
  "kernelspec": {
   "display_name": "document-intelligence",
   "language": "python",
   "name": "python3"
  },
  "language_info": {
   "codemirror_mode": {
    "name": "ipython",
    "version": 3
   },
   "file_extension": ".py",
   "mimetype": "text/x-python",
   "name": "python",
   "nbconvert_exporter": "python",
   "pygments_lexer": "ipython3",
   "version": "3.9.18"
  }
 },
 "nbformat": 4,
 "nbformat_minor": 2
}
